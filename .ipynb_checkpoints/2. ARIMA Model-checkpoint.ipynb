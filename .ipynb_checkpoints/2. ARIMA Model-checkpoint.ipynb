{
 "cells": [
  {
   "cell_type": "markdown",
   "id": "sporting-coral",
   "metadata": {},
   "source": [
    "# Index Harga Konsumen with ARIMA Model"
   ]
  },
  {
   "cell_type": "markdown",
   "id": "conventional-lucas",
   "metadata": {},
   "source": [
    "## Import Library"
   ]
  },
  {
   "cell_type": "code",
   "execution_count": 1,
   "id": "oriental-arthur",
   "metadata": {},
   "outputs": [],
   "source": [
    "import numpy as np\n",
    "import pandas as pd\n",
    "import matplotlib.pyplot as plt\n",
    "import seaborn as sns\n",
    "from warnings import filterwarnings\n",
    "filterwarnings('ignore')\n",
    "\n",
    "from pmdarima import AutoARIMA"
   ]
  },
  {
   "cell_type": "markdown",
   "id": "detected-connection",
   "metadata": {},
   "source": [
    "## Load Data"
   ]
  },
  {
   "cell_type": "code",
   "execution_count": 2,
   "id": "through-embassy",
   "metadata": {},
   "outputs": [
    {
     "data": {
      "text/html": [
       "<div>\n",
       "<style scoped>\n",
       "    .dataframe tbody tr th:only-of-type {\n",
       "        vertical-align: middle;\n",
       "    }\n",
       "\n",
       "    .dataframe tbody tr th {\n",
       "        vertical-align: top;\n",
       "    }\n",
       "\n",
       "    .dataframe thead th {\n",
       "        text-align: right;\n",
       "    }\n",
       "</style>\n",
       "<table border=\"1\" class=\"dataframe\">\n",
       "  <thead>\n",
       "    <tr style=\"text-align: right;\">\n",
       "      <th></th>\n",
       "      <th>Tanggal</th>\n",
       "      <th>IHK</th>\n",
       "      <th>Inflasi</th>\n",
       "    </tr>\n",
       "  </thead>\n",
       "  <tbody>\n",
       "    <tr>\n",
       "      <th>0</th>\n",
       "      <td>2001-08-01</td>\n",
       "      <td>259.48</td>\n",
       "      <td>-0.23</td>\n",
       "    </tr>\n",
       "    <tr>\n",
       "      <th>1</th>\n",
       "      <td>2001-09-01</td>\n",
       "      <td>263.46</td>\n",
       "      <td>1.53</td>\n",
       "    </tr>\n",
       "    <tr>\n",
       "      <th>2</th>\n",
       "      <td>2001-10-01</td>\n",
       "      <td>263.49</td>\n",
       "      <td>0.01</td>\n",
       "    </tr>\n",
       "    <tr>\n",
       "      <th>3</th>\n",
       "      <td>2001-11-01</td>\n",
       "      <td>269.43</td>\n",
       "      <td>2.25</td>\n",
       "    </tr>\n",
       "    <tr>\n",
       "      <th>4</th>\n",
       "      <td>2001-12-01</td>\n",
       "      <td>268.99</td>\n",
       "      <td>-0.16</td>\n",
       "    </tr>\n",
       "    <tr>\n",
       "      <th>5</th>\n",
       "      <td>2002-01-01</td>\n",
       "      <td>274.85</td>\n",
       "      <td>2.18</td>\n",
       "    </tr>\n",
       "    <tr>\n",
       "      <th>6</th>\n",
       "      <td>2002-02-01</td>\n",
       "      <td>275.43</td>\n",
       "      <td>0.21</td>\n",
       "    </tr>\n",
       "    <tr>\n",
       "      <th>7</th>\n",
       "      <td>2002-03-01</td>\n",
       "      <td>278.11</td>\n",
       "      <td>0.97</td>\n",
       "    </tr>\n",
       "    <tr>\n",
       "      <th>8</th>\n",
       "      <td>2002-04-01</td>\n",
       "      <td>273.15</td>\n",
       "      <td>-1.78</td>\n",
       "    </tr>\n",
       "    <tr>\n",
       "      <th>9</th>\n",
       "      <td>2002-05-01</td>\n",
       "      <td>282.70</td>\n",
       "      <td>3.50</td>\n",
       "    </tr>\n",
       "  </tbody>\n",
       "</table>\n",
       "</div>"
      ],
      "text/plain": [
       "     Tanggal     IHK  Inflasi\n",
       "0 2001-08-01  259.48    -0.23\n",
       "1 2001-09-01  263.46     1.53\n",
       "2 2001-10-01  263.49     0.01\n",
       "3 2001-11-01  269.43     2.25\n",
       "4 2001-12-01  268.99    -0.16\n",
       "5 2002-01-01  274.85     2.18\n",
       "6 2002-02-01  275.43     0.21\n",
       "7 2002-03-01  278.11     0.97\n",
       "8 2002-04-01  273.15    -1.78\n",
       "9 2002-05-01  282.70     3.50"
      ]
     },
     "execution_count": 2,
     "metadata": {},
     "output_type": "execute_result"
    }
   ],
   "source": [
    "df = pd.read_csv(\"data/Data_Inflasi_IHK_2001_2021.csv\", parse_dates=['Tanggal'])\n",
    "df.Tanggal = pd.to_datetime(df.Tanggal)\n",
    "df.head(10)"
   ]
  },
  {
   "cell_type": "code",
   "execution_count": 3,
   "id": "ed70d91a",
   "metadata": {},
   "outputs": [
    {
     "data": {
      "text/html": [
       "<div>\n",
       "<style scoped>\n",
       "    .dataframe tbody tr th:only-of-type {\n",
       "        vertical-align: middle;\n",
       "    }\n",
       "\n",
       "    .dataframe tbody tr th {\n",
       "        vertical-align: top;\n",
       "    }\n",
       "\n",
       "    .dataframe thead th {\n",
       "        text-align: right;\n",
       "    }\n",
       "</style>\n",
       "<table border=\"1\" class=\"dataframe\">\n",
       "  <thead>\n",
       "    <tr style=\"text-align: right;\">\n",
       "      <th></th>\n",
       "      <th>IHK</th>\n",
       "      <th>Inflasi</th>\n",
       "    </tr>\n",
       "    <tr>\n",
       "      <th>Tanggal</th>\n",
       "      <th></th>\n",
       "      <th></th>\n",
       "    </tr>\n",
       "  </thead>\n",
       "  <tbody>\n",
       "    <tr>\n",
       "      <th>2001-08-01</th>\n",
       "      <td>259.48</td>\n",
       "      <td>-0.23</td>\n",
       "    </tr>\n",
       "    <tr>\n",
       "      <th>2001-09-01</th>\n",
       "      <td>263.46</td>\n",
       "      <td>1.53</td>\n",
       "    </tr>\n",
       "    <tr>\n",
       "      <th>2001-10-01</th>\n",
       "      <td>263.49</td>\n",
       "      <td>0.01</td>\n",
       "    </tr>\n",
       "    <tr>\n",
       "      <th>2001-11-01</th>\n",
       "      <td>269.43</td>\n",
       "      <td>2.25</td>\n",
       "    </tr>\n",
       "    <tr>\n",
       "      <th>2001-12-01</th>\n",
       "      <td>268.99</td>\n",
       "      <td>-0.16</td>\n",
       "    </tr>\n",
       "    <tr>\n",
       "      <th>2002-01-01</th>\n",
       "      <td>274.85</td>\n",
       "      <td>2.18</td>\n",
       "    </tr>\n",
       "    <tr>\n",
       "      <th>2002-02-01</th>\n",
       "      <td>275.43</td>\n",
       "      <td>0.21</td>\n",
       "    </tr>\n",
       "    <tr>\n",
       "      <th>2002-03-01</th>\n",
       "      <td>278.11</td>\n",
       "      <td>0.97</td>\n",
       "    </tr>\n",
       "    <tr>\n",
       "      <th>2002-04-01</th>\n",
       "      <td>273.15</td>\n",
       "      <td>-1.78</td>\n",
       "    </tr>\n",
       "    <tr>\n",
       "      <th>2002-05-01</th>\n",
       "      <td>282.70</td>\n",
       "      <td>3.50</td>\n",
       "    </tr>\n",
       "  </tbody>\n",
       "</table>\n",
       "</div>"
      ],
      "text/plain": [
       "               IHK  Inflasi\n",
       "Tanggal                    \n",
       "2001-08-01  259.48    -0.23\n",
       "2001-09-01  263.46     1.53\n",
       "2001-10-01  263.49     0.01\n",
       "2001-11-01  269.43     2.25\n",
       "2001-12-01  268.99    -0.16\n",
       "2002-01-01  274.85     2.18\n",
       "2002-02-01  275.43     0.21\n",
       "2002-03-01  278.11     0.97\n",
       "2002-04-01  273.15    -1.78\n",
       "2002-05-01  282.70     3.50"
      ]
     },
     "execution_count": 3,
     "metadata": {},
     "output_type": "execute_result"
    }
   ],
   "source": [
    "df.set_index('Tanggal', inplace=True)\n",
    "df.head(10)"
   ]
  },
  {
   "cell_type": "code",
   "execution_count": 4,
   "id": "cooked-guinea",
   "metadata": {},
   "outputs": [
    {
     "data": {
      "text/html": [
       "<div>\n",
       "<style scoped>\n",
       "    .dataframe tbody tr th:only-of-type {\n",
       "        vertical-align: middle;\n",
       "    }\n",
       "\n",
       "    .dataframe tbody tr th {\n",
       "        vertical-align: top;\n",
       "    }\n",
       "\n",
       "    .dataframe thead th {\n",
       "        text-align: right;\n",
       "    }\n",
       "</style>\n",
       "<table border=\"1\" class=\"dataframe\">\n",
       "  <thead>\n",
       "    <tr style=\"text-align: right;\">\n",
       "      <th></th>\n",
       "      <th>IHK</th>\n",
       "      <th>Inflasi</th>\n",
       "    </tr>\n",
       "    <tr>\n",
       "      <th>Tanggal</th>\n",
       "      <th></th>\n",
       "      <th></th>\n",
       "    </tr>\n",
       "  </thead>\n",
       "  <tbody>\n",
       "    <tr>\n",
       "      <th>2020-10-01</th>\n",
       "      <td>104.99</td>\n",
       "      <td>0.10</td>\n",
       "    </tr>\n",
       "    <tr>\n",
       "      <th>2020-11-01</th>\n",
       "      <td>105.27</td>\n",
       "      <td>0.27</td>\n",
       "    </tr>\n",
       "    <tr>\n",
       "      <th>2020-12-01</th>\n",
       "      <td>105.76</td>\n",
       "      <td>0.47</td>\n",
       "    </tr>\n",
       "    <tr>\n",
       "      <th>2021-01-01</th>\n",
       "      <td>106.37</td>\n",
       "      <td>0.58</td>\n",
       "    </tr>\n",
       "    <tr>\n",
       "      <th>2021-02-01</th>\n",
       "      <td>106.41</td>\n",
       "      <td>0.04</td>\n",
       "    </tr>\n",
       "    <tr>\n",
       "      <th>2021-03-01</th>\n",
       "      <td>106.95</td>\n",
       "      <td>0.17</td>\n",
       "    </tr>\n",
       "    <tr>\n",
       "      <th>2021-04-01</th>\n",
       "      <td>107.61</td>\n",
       "      <td>0.96</td>\n",
       "    </tr>\n",
       "    <tr>\n",
       "      <th>2021-05-01</th>\n",
       "      <td>107.29</td>\n",
       "      <td>-0.30</td>\n",
       "    </tr>\n",
       "    <tr>\n",
       "      <th>2021-06-01</th>\n",
       "      <td>107.36</td>\n",
       "      <td>0.07</td>\n",
       "    </tr>\n",
       "    <tr>\n",
       "      <th>2021-07-01</th>\n",
       "      <td>107.66</td>\n",
       "      <td>0.28</td>\n",
       "    </tr>\n",
       "  </tbody>\n",
       "</table>\n",
       "</div>"
      ],
      "text/plain": [
       "               IHK  Inflasi\n",
       "Tanggal                    \n",
       "2020-10-01  104.99     0.10\n",
       "2020-11-01  105.27     0.27\n",
       "2020-12-01  105.76     0.47\n",
       "2021-01-01  106.37     0.58\n",
       "2021-02-01  106.41     0.04\n",
       "2021-03-01  106.95     0.17\n",
       "2021-04-01  107.61     0.96\n",
       "2021-05-01  107.29    -0.30\n",
       "2021-06-01  107.36     0.07\n",
       "2021-07-01  107.66     0.28"
      ]
     },
     "execution_count": 4,
     "metadata": {},
     "output_type": "execute_result"
    }
   ],
   "source": [
    "df.tail(10)"
   ]
  },
  {
   "cell_type": "code",
   "execution_count": 5,
   "id": "actual-latino",
   "metadata": {},
   "outputs": [
    {
     "data": {
      "text/plain": [
       "(240, 2)"
      ]
     },
     "execution_count": 5,
     "metadata": {},
     "output_type": "execute_result"
    }
   ],
   "source": [
    "df.shape"
   ]
  },
  {
   "cell_type": "code",
   "execution_count": 6,
   "id": "fatal-defense",
   "metadata": {},
   "outputs": [
    {
     "data": {
      "text/plain": [
       "IHK        float64\n",
       "Inflasi    float64\n",
       "dtype: object"
      ]
     },
     "execution_count": 6,
     "metadata": {},
     "output_type": "execute_result"
    }
   ],
   "source": [
    "df.dtypes"
   ]
  },
  {
   "cell_type": "code",
   "execution_count": 7,
   "id": "comic-release",
   "metadata": {},
   "outputs": [
    {
     "data": {
      "text/plain": [
       "IHK        0\n",
       "Inflasi    0\n",
       "dtype: int64"
      ]
     },
     "execution_count": 7,
     "metadata": {},
     "output_type": "execute_result"
    }
   ],
   "source": [
    "df.isna().sum()"
   ]
  },
  {
   "cell_type": "code",
   "execution_count": 8,
   "id": "6d545bbf",
   "metadata": {},
   "outputs": [],
   "source": [
    "df.drop(columns='Inflasi', axis=1, inplace=True)"
   ]
  },
  {
   "cell_type": "code",
   "execution_count": 9,
   "id": "e2f878cf",
   "metadata": {},
   "outputs": [
    {
     "data": {
      "text/plain": [
       "(240, 1)"
      ]
     },
     "execution_count": 9,
     "metadata": {},
     "output_type": "execute_result"
    }
   ],
   "source": [
    "df.shape"
   ]
  },
  {
   "cell_type": "code",
   "execution_count": 10,
   "id": "humanitarian-clark",
   "metadata": {},
   "outputs": [],
   "source": [
    "series = df.IHK\n",
    "X_train, X_test = series[:-45], series[-45:]"
   ]
  },
  {
   "cell_type": "code",
   "execution_count": 11,
   "id": "tender-wyoming",
   "metadata": {},
   "outputs": [
    {
     "data": {
      "text/plain": [
       "(195,)"
      ]
     },
     "execution_count": 11,
     "metadata": {},
     "output_type": "execute_result"
    }
   ],
   "source": [
    "X_train.shape"
   ]
  },
  {
   "cell_type": "code",
   "execution_count": 12,
   "id": "blocked-gravity",
   "metadata": {},
   "outputs": [
    {
     "data": {
      "text/plain": [
       "(45,)"
      ]
     },
     "execution_count": 12,
     "metadata": {},
     "output_type": "execute_result"
    }
   ],
   "source": [
    "X_test.shape"
   ]
  },
  {
   "cell_type": "code",
   "execution_count": 13,
   "id": "current-secret",
   "metadata": {},
   "outputs": [
    {
     "data": {
      "image/png": "[encoded data removed]",
      "text/plain": [
       "<Figure size 1080x360 with 1 Axes>"
      ]
     },
     "metadata": {
      "needs_background": "light"
     },
     "output_type": "display_data"
    }
   ],
   "source": [
    "series.plot(figsize=(15, 5));"
   ]
  },
  {
   "cell_type": "code",
   "execution_count": 14,
   "id": "different-paste",
   "metadata": {},
   "outputs": [],
   "source": [
    "model = AutoARIMA(max_p=7, max_d=5, max_q=7, max_P=5, max_D=2, max_Q=5, max_order=None, m=12, seasonal=True, stationary=True, information_criterion='aicc', maxiter=100, with_intercept=False, trace=True, suppress_warnings=True, random_state=42)"
   ]
  },
  {
   "cell_type": "code",
   "execution_count": 15,
   "id": "pressing-swedish",
   "metadata": {
    "scrolled": true
   },
   "outputs": [
    {
     "name": "stdout",
     "output_type": "stream",
     "text": [
      "Performing stepwise search to minimize aicc\n",
      "Fit ARIMA(2,0,2)x(1,0,1,12) [intercept=False]; AIC=1633.901, BIC=1656.812, Time=1.539 seconds\n",
      "Fit ARIMA(0,0,0)x(0,0,0,12) [intercept=False]; AIC=2538.291, BIC=2541.564, Time=0.011 seconds\n",
      "Fit ARIMA(1,0,0)x(1,0,0,12) [intercept=False]; AIC=1626.683, BIC=1636.502, Time=0.152 seconds\n",
      "Near non-invertible roots for order (1, 0, 0)(1, 0, 0, 12); setting score to inf (at least one inverse root too close to the border of the unit circle: 0.996)\n",
      "Fit ARIMA(0,0,1)x(0,0,1,12) [intercept=False]; AIC=2145.636, BIC=2155.455, Time=0.533 seconds\n",
      "Fit ARIMA(2,0,2)x(0,0,1,12) [intercept=False]; AIC=1632.531, BIC=1652.169, Time=0.344 seconds\n",
      "Fit ARIMA(2,0,2)x(0,0,0,12) [intercept=False]; AIC=1630.925, BIC=1647.290, Time=0.188 seconds\n",
      "Fit ARIMA(2,0,2)x(1,0,0,12) [intercept=False]; AIC=1632.550, BIC=1652.188, Time=0.422 seconds\n",
      "Fit ARIMA(1,0,2)x(0,0,0,12) [intercept=False]; AIC=1628.971, BIC=1642.063, Time=0.127 seconds\n",
      "Fit ARIMA(1,0,2)x(1,0,0,12) [intercept=False]; AIC=1630.575, BIC=1646.940, Time=0.444 seconds\n",
      "Fit ARIMA(1,0,2)x(0,0,1,12) [intercept=False]; AIC=1630.555, BIC=1646.920, Time=0.394 seconds\n",
      "Fit ARIMA(1,0,2)x(1,0,1,12) [intercept=False]; AIC=1631.960, BIC=1651.598, Time=1.952 seconds\n",
      "Near non-invertible roots for order (1, 0, 2)(1, 0, 1, 12); setting score to inf (at least one inverse root too close to the border of the unit circle: 0.999)\n",
      "Fit ARIMA(0,0,2)x(0,0,0,12) [intercept=False]; AIC=2122.119, BIC=2131.938, Time=0.257 seconds\n",
      "Fit ARIMA(1,0,1)x(0,0,0,12) [intercept=False]; AIC=1626.973, BIC=1636.792, Time=0.138 seconds\n",
      "Fit ARIMA(1,0,1)x(1,0,0,12) [intercept=False]; AIC=1628.575, BIC=1641.667, Time=0.322 seconds\n",
      "Fit ARIMA(1,0,1)x(0,0,1,12) [intercept=False]; AIC=1628.556, BIC=1641.648, Time=0.266 seconds\n",
      "Fit ARIMA(1,0,1)x(1,0,1,12) [intercept=False]; AIC=1629.962, BIC=1646.327, Time=0.878 seconds\n",
      "Near non-invertible roots for order (1, 0, 1)(1, 0, 1, 12); setting score to inf (at least one inverse root too close to the border of the unit circle: 0.999)\n",
      "Fit ARIMA(0,0,1)x(0,0,0,12) [intercept=False]; AIC=2300.202, BIC=2306.748, Time=0.080 seconds\n",
      "Fit ARIMA(1,0,0)x(0,0,0,12) [intercept=False]; AIC=1625.097, BIC=1631.643, Time=0.027 seconds\n",
      "Near non-invertible roots for order (1, 0, 0)(0, 0, 0, 12); setting score to inf (at least one inverse root too close to the border of the unit circle: 0.997)\n",
      "Fit ARIMA(2,0,1)x(0,0,0,12) [intercept=False]; AIC=1628.988, BIC=1642.080, Time=0.061 seconds\n",
      "Fit ARIMA(2,0,0)x(0,0,0,12) [intercept=False]; AIC=1626.974, BIC=1636.793, Time=0.064 seconds\n",
      "Near non-invertible roots for order (2, 0, 0)(0, 0, 0, 12); setting score to inf (at least one inverse root too close to the border of the unit circle: 0.997)\n",
      "Total fit time: 8.224 seconds\n"
     ]
    },
    {
     "data": {
      "text/plain": [
       "AutoARIMA(D=None, alpha=0.05, d=None, error_action='trace',\n",
       "          information_criterion='aicc', m=12, max_D=2, max_P=5, max_Q=5,\n",
       "          max_d=5, max_order=None, max_p=7, max_q=7, maxiter=100,\n",
       "          method='lbfgs', n_fits=10, n_jobs=1, offset_test_args=None,\n",
       "          out_of_sample_size=0, random=False, random_state=42, scoring='mse',\n",
       "          scoring_args=None, seasonal=True, seasonal_test='ocsb',\n",
       "          seasonal_test_args=None, start_P=1, start_Q=1, start_p=2,\n",
       "          start_params=None, ...)"
      ]
     },
     "execution_count": 15,
     "metadata": {},
     "output_type": "execute_result"
    }
   ],
   "source": [
    "model.fit(X_train)"
   ]
  },
  {
   "cell_type": "code",
   "execution_count": 16,
   "id": "applicable-mirror",
   "metadata": {},
   "outputs": [
    {
     "data": {
      "text/html": [
       "<table class=\"simpletable\">\n",
       "<caption>SARIMAX Results</caption>\n",
       "<tr>\n",
       "  <th>Dep. Variable:</th>           <td>y</td>        <th>  No. Observations:  </th>    <td>195</td>  \n",
       "</tr>\n",
       "<tr>\n",
       "  <th>Model:</th>           <td>SARIMAX(1, 0, 0)</td> <th>  Log Likelihood     </th> <td>-810.549</td>\n",
       "</tr>\n",
       "<tr>\n",
       "  <th>Date:</th>            <td>Fri, 03 Sep 2021</td> <th>  AIC                </th> <td>1625.097</td>\n",
       "</tr>\n",
       "<tr>\n",
       "  <th>Time:</th>                <td>00:19:14</td>     <th>  BIC                </th> <td>1631.643</td>\n",
       "</tr>\n",
       "<tr>\n",
       "  <th>Sample:</th>                  <td>0</td>        <th>  HQIC               </th> <td>1627.748</td>\n",
       "</tr>\n",
       "<tr>\n",
       "  <th></th>                      <td> - 195</td>      <th>                     </th>     <td> </td>   \n",
       "</tr>\n",
       "<tr>\n",
       "  <th>Covariance Type:</th>        <td>opg</td>       <th>                     </th>     <td> </td>   \n",
       "</tr>\n",
       "</table>\n",
       "<table class=\"simpletable\">\n",
       "<tr>\n",
       "     <td></td>       <th>coef</th>     <th>std err</th>      <th>z</th>      <th>P>|z|</th>  <th>[0.025</th>    <th>0.975]</th>  \n",
       "</tr>\n",
       "<tr>\n",
       "  <th>ar.L1</th>  <td>    0.9967</td> <td>    0.007</td> <td>  144.068</td> <td> 0.000</td> <td>    0.983</td> <td>    1.010</td>\n",
       "</tr>\n",
       "<tr>\n",
       "  <th>sigma2</th> <td>  232.6647</td> <td>    5.663</td> <td>   41.085</td> <td> 0.000</td> <td>  221.565</td> <td>  243.764</td>\n",
       "</tr>\n",
       "</table>\n",
       "<table class=\"simpletable\">\n",
       "<tr>\n",
       "  <th>Ljung-Box (Q):</th>          <td>5.89</td> <th>  Jarque-Bera (JB):  </th> <td>198543.63</td>\n",
       "</tr>\n",
       "<tr>\n",
       "  <th>Prob(Q):</th>                <td>1.00</td> <th>  Prob(JB):          </th>   <td>0.00</td>   \n",
       "</tr>\n",
       "<tr>\n",
       "  <th>Heteroskedasticity (H):</th> <td>0.02</td> <th>  Skew:              </th>  <td>-12.01</td>  \n",
       "</tr>\n",
       "<tr>\n",
       "  <th>Prob(H) (two-sided):</th>    <td>0.00</td> <th>  Kurtosis:          </th>  <td>157.46</td>  \n",
       "</tr>\n",
       "</table><br/><br/>Warnings:<br/>[1] Covariance matrix calculated using the outer product of gradients (complex-step)."
      ],
      "text/plain": [
       "<class 'statsmodels.iolib.summary.Summary'>\n",
       "\"\"\"\n",
       "                               SARIMAX Results                                \n",
       "==============================================================================\n",
       "Dep. Variable:                      y   No. Observations:                  195\n",
       "Model:               SARIMAX(1, 0, 0)   Log Likelihood                -810.549\n",
       "Date:                Fri, 03 Sep 2021   AIC                           1625.097\n",
       "Time:                        00:19:14   BIC                           1631.643\n",
       "Sample:                             0   HQIC                          1627.748\n",
       "                                - 195                                         \n",
       "Covariance Type:                  opg                                         \n",
       "==============================================================================\n",
       "                 coef    std err          z      P>|z|      [0.025      0.975]\n",
       "------------------------------------------------------------------------------\n",
       "ar.L1          0.9967      0.007    144.068      0.000       0.983       1.010\n",
       "sigma2       232.6647      5.663     41.085      0.000     221.565     243.764\n",
       "===================================================================================\n",
       "Ljung-Box (Q):                        5.89   Jarque-Bera (JB):            198543.63\n",
       "Prob(Q):                              1.00   Prob(JB):                         0.00\n",
       "Heteroskedasticity (H):               0.02   Skew:                           -12.01\n",
       "Prob(H) (two-sided):                  0.00   Kurtosis:                       157.46\n",
       "===================================================================================\n",
       "\n",
       "Warnings:\n",
       "[1] Covariance matrix calculated using the outer product of gradients (complex-step).\n",
       "\"\"\""
      ]
     },
     "execution_count": 16,
     "metadata": {},
     "output_type": "execute_result"
    }
   ],
   "source": [
    "model.summary()"
   ]
  },
  {
   "cell_type": "markdown",
   "id": "lined-armstrong",
   "metadata": {},
   "source": [
    "## Forecasting"
   ]
  },
  {
   "cell_type": "code",
   "execution_count": 17,
   "id": "unusual-richardson",
   "metadata": {},
   "outputs": [],
   "source": [
    "# forecast sampe 1 tahun ke depan\n",
    "n_forecast = len(X_test)+13\n",
    "\n",
    "pred = model.predict(n_forecast)\n",
    "\n",
    "dates = pd.date_range(X_train.index[-1], periods=n_forecast, freq='M')\n",
    "pred = pd.Series(pred, index=dates)"
   ]
  },
  {
   "cell_type": "code",
   "execution_count": 18,
   "id": "departmental-administrator",
   "metadata": {},
   "outputs": [
    {
     "data": {
      "image/png": "[encoded data removed]",
      "text/plain": [
       "<Figure size 1080x360 with 1 Axes>"
      ]
     },
     "metadata": {
      "needs_background": "light"
     },
     "output_type": "display_data"
    }
   ],
   "source": [
    "plt.figure(figsize=(15, 5))\n",
    "plt.plot(X_train, 'b-', label='Train')\n",
    "plt.plot(X_test,'r-', label='Test')\n",
    "plt.plot(pred,'g--', label='Forecast')\n",
    "plt.legend();"
   ]
  },
  {
   "cell_type": "markdown",
   "id": "seven-pontiac",
   "metadata": {},
   "source": [
    "## Hasil Forecasting"
   ]
  },
  {
   "cell_type": "code",
   "execution_count": 19,
   "id": "objective-jacksonville",
   "metadata": {},
   "outputs": [
    {
     "data": {
      "text/plain": [
       "2017-10-31    127.759341\n",
       "2017-11-30    127.340062\n",
       "2017-12-31    126.922159\n",
       "2018-01-31    126.505628\n",
       "2018-02-28    126.090463\n",
       "2018-03-31    125.676662\n",
       "2018-04-30    125.264218\n",
       "2018-05-31    124.853127\n",
       "2018-06-30    124.443386\n",
       "2018-07-31    124.034990\n",
       "2018-08-31    123.627933\n",
       "2018-09-30    123.222213\n",
       "2018-10-31    122.817824\n",
       "2018-11-30    122.414762\n",
       "2018-12-31    122.013023\n",
       "2019-01-31    121.612603\n",
       "2019-02-28    121.213496\n",
       "2019-03-31    120.815700\n",
       "2019-04-30    120.419208\n",
       "2019-05-31    120.024018\n",
       "2019-06-30    119.630125\n",
       "2019-07-31    119.237525\n",
       "2019-08-31    118.846213\n",
       "2019-09-30    118.456185\n",
       "2019-10-31    118.067437\n",
       "2019-11-30    117.679965\n",
       "2019-12-31    117.293765\n",
       "2020-01-31    116.908832\n",
       "2020-02-29    116.525162\n",
       "2020-03-31    116.142751\n",
       "2020-04-30    115.761596\n",
       "2020-05-31    115.381691\n",
       "2020-06-30    115.003033\n",
       "2020-07-31    114.625618\n",
       "2020-08-31    114.249441\n",
       "2020-09-30    113.874499\n",
       "2020-10-31    113.500787\n",
       "2020-11-30    113.128302\n",
       "2020-12-31    112.757039\n",
       "2021-01-31    112.386995\n",
       "2021-02-28    112.018165\n",
       "2021-03-31    111.650545\n",
       "2021-04-30    111.284132\n",
       "2021-05-31    110.918921\n",
       "2021-06-30    110.554909\n",
       "2021-07-31    110.192092\n",
       "2021-08-31    109.830465\n",
       "2021-09-30    109.470025\n",
       "2021-10-31    109.110768\n",
       "2021-11-30    108.752689\n",
       "2021-12-31    108.395786\n",
       "2022-01-31    108.040055\n",
       "2022-02-28    107.685490\n",
       "2022-03-31    107.332090\n",
       "2022-04-30    106.979849\n",
       "2022-05-31    106.628764\n",
       "2022-06-30    106.278831\n",
       "2022-07-31    105.930047\n",
       "Freq: M, dtype: float64"
      ]
     },
     "execution_count": 19,
     "metadata": {},
     "output_type": "execute_result"
    }
   ],
   "source": [
    "pred"
   ]
  },
  {
   "cell_type": "code",
   "execution_count": null,
   "id": "961e0744",
   "metadata": {},
   "outputs": [],
   "source": []
  }
 ],
 "metadata": {
  "kernelspec": {
   "display_name": "Python [conda env:jcop]",
   "language": "python",
   "name": "conda-env-jcop-py"
  },
  "language_info": {
   "codemirror_mode": {
    "name": "ipython",
    "version": 3
   },
   "file_extension": ".py",
   "mimetype": "text/x-python",
   "name": "python",
   "nbconvert_exporter": "python",
   "pygments_lexer": "ipython3",
   "version": "3.7.6"
  }
 },
 "nbformat": 4,
 "nbformat_minor": 5
}
